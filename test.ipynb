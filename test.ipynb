{
 "cells": [
  {
   "cell_type": "code",
   "execution_count": 25,
   "id": "829e02c3",
   "metadata": {},
   "outputs": [],
   "source": [
    "import pandas as pd"
   ]
  },
  {
   "cell_type": "code",
   "execution_count": 49,
   "id": "9fb7e7ce",
   "metadata": {},
   "outputs": [],
   "source": [
    "df1 = pd.read_csv('/Users/ifish/Documents/Github/VideoLLM/output/submission.csv')\n",
    "df2 = pd.read_csv('/Users/ifish/Documents/Github/VideoLLM/output/5fps_submission.csv')"
   ]
  },
  {
   "cell_type": "code",
   "execution_count": 50,
   "id": "ebdfdd9a",
   "metadata": {},
   "outputs": [],
   "source": [
    "df2.dropna(subset=['pred'], inplace=True)"
   ]
  },
  {
   "cell_type": "code",
   "execution_count": null,
   "id": "ae13d5ae",
   "metadata": {},
   "outputs": [],
   "source": [
    "missing = []\n",
    "for qid, pred in df1.values:\n",
    "    if qid not in df2['qid'].values:\n",
    "        missing.append({\n",
    "            'qid': qid,\n",
    "            'pred': pred,\n",
    "        })\n",
    "        continue"
   ]
  },
  {
   "cell_type": "code",
   "execution_count": 52,
   "id": "9d0eec19",
   "metadata": {},
   "outputs": [
    {
     "data": {
      "text/plain": [
       "qid     0\n",
       "pred    0\n",
       "dtype: int64"
      ]
     },
     "execution_count": 52,
     "metadata": {},
     "output_type": "execute_result"
    }
   ],
   "source": [
    "df2.isna().sum()"
   ]
  },
  {
   "cell_type": "code",
   "execution_count": 53,
   "id": "9d26d99c",
   "metadata": {},
   "outputs": [],
   "source": [
    "mdf = pd.DataFrame(missing)\n",
    "pd.concat([df2, mdf], ignore_index=True).to_csv('/Users/ifish/Documents/Github/VideoLLM/output/5fps_submission_new.csv', index=False)"
   ]
  },
  {
   "cell_type": "code",
   "execution_count": null,
   "id": "b3fdbb51",
   "metadata": {},
   "outputs": [],
   "source": []
  }
 ],
 "metadata": {
  "kernelspec": {
   "display_name": ".venv",
   "language": "python",
   "name": "python3"
  },
  "language_info": {
   "codemirror_mode": {
    "name": "ipython",
    "version": 3
   },
   "file_extension": ".py",
   "mimetype": "text/x-python",
   "name": "python",
   "nbconvert_exporter": "python",
   "pygments_lexer": "ipython3",
   "version": "3.13.2"
  }
 },
 "nbformat": 4,
 "nbformat_minor": 5
}
