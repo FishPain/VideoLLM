{
 "cells": [
  {
   "cell_type": "code",
   "execution_count": 44,
   "id": "950dd0d9",
   "metadata": {},
   "outputs": [],
   "source": [
    "from datasets import load_dataset\n",
    "import pandas as pd\n",
    "\n",
    "dataset = load_dataset(\"lmms-lab/AISG_Challenge\", split=\"test\")\n",
    "df = pd.read_csv(\"/Users/ifish/Documents/Github/VideoLLM/tt_pred_qwen25vl7b.csv\")"
   ]
  },
  {
   "cell_type": "code",
   "execution_count": 45,
   "id": "be2009cc",
   "metadata": {},
   "outputs": [],
   "source": [
    "# convert dtype to string\n",
    "df[\"qid\"] = df[\"qid\"].astype(str)\n",
    "df[\"pred\"] = df[\"pred\"].astype(str)"
   ]
  },
  {
   "cell_type": "code",
   "execution_count": 46,
   "id": "71cb2293",
   "metadata": {},
   "outputs": [],
   "source": [
    "missing = []\n",
    "for row in dataset:\n",
    "    if row[\"qid\"] not in df[\"qid\"].values:\n",
    "        missing.append({\n",
    "            \"qid\": row[\"qid\"],\n",
    "            \"pred\": \"Video Unavailable\",\n",
    "        })"
   ]
  },
  {
   "cell_type": "code",
   "execution_count": 47,
   "id": "173cf637",
   "metadata": {},
   "outputs": [],
   "source": [
    "mdf = pd.DataFrame(missing)"
   ]
  },
  {
   "cell_type": "code",
   "execution_count": 48,
   "id": "aaf1355d",
   "metadata": {},
   "outputs": [],
   "source": [
    "df = pd.concat([df, mdf], ignore_index=True)"
   ]
  },
  {
   "cell_type": "code",
   "execution_count": 49,
   "id": "11e33d55",
   "metadata": {},
   "outputs": [],
   "source": [
    "df.to_csv(\"q7b_submit.csv\", index=False)"
   ]
  },
  {
   "cell_type": "code",
   "execution_count": null,
   "id": "eb82e38c",
   "metadata": {},
   "outputs": [],
   "source": []
  }
 ],
 "metadata": {
  "kernelspec": {
   "display_name": ".venv",
   "language": "python",
   "name": "python3"
  },
  "language_info": {
   "codemirror_mode": {
    "name": "ipython",
    "version": 3
   },
   "file_extension": ".py",
   "mimetype": "text/x-python",
   "name": "python",
   "nbconvert_exporter": "python",
   "pygments_lexer": "ipython3",
   "version": "3.13.2"
  }
 },
 "nbformat": 4,
 "nbformat_minor": 5
}
